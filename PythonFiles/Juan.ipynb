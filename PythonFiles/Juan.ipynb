{
 "cells": [
  {
   "cell_type": "markdown",
   "id": "fc04b6ec",
   "metadata": {},
   "source": [
    "# Notebook Juan"
   ]
  },
  {
   "cell_type": "code",
   "execution_count": 2,
   "id": "1fafbb95",
   "metadata": {},
   "outputs": [],
   "source": [
    "import numpy as np\n",
    "import pandas as pd\n",
    "import os\n",
    "from os.path import dirname, abspath"
   ]
  },
  {
   "cell_type": "markdown",
   "id": "a1104aec",
   "metadata": {},
   "source": [
    "## Enviroment Settings"
   ]
  },
  {
   "cell_type": "code",
   "execution_count": 6,
   "id": "69a2643d",
   "metadata": {},
   "outputs": [],
   "source": [
    "repo_dir = dirname(abspath(os.getcwd()))+\"/Data/\""
   ]
  },
  {
   "cell_type": "markdown",
   "id": "5eec1749",
   "metadata": {},
   "source": [
    "## Work Orders Dataset"
   ]
  },
  {
   "cell_type": "code",
   "execution_count": 7,
   "id": "16fc04e6",
   "metadata": {},
   "outputs": [
    {
     "data": {
      "text/plain": [
       "'/home/jovyan/work/Data/'"
      ]
     },
     "execution_count": 7,
     "metadata": {},
     "output_type": "execute_result"
    }
   ],
   "source": [
    "activos = pd.read_csv(repo_dir + '\\Data\\Activos.csv', delimiter=';', encoding='windows-1252', dtype='object')\n",
    "activos.head()"
   ]
  }
 ],
 "metadata": {
  "kernelspec": {
   "display_name": "Python 3",
   "language": "python",
   "name": "python3"
  },
  "language_info": {
   "codemirror_mode": {
    "name": "ipython",
    "version": 3
   },
   "file_extension": ".py",
   "mimetype": "text/x-python",
   "name": "python",
   "nbconvert_exporter": "python",
   "pygments_lexer": "ipython3",
   "version": "3.8.8"
  }
 },
 "nbformat": 4,
 "nbformat_minor": 5
}
