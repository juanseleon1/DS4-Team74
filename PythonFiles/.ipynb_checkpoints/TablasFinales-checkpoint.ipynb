{
 "cells": [
  {
   "cell_type": "markdown",
   "metadata": {},
   "source": [
    "# Modificacion de Tablas"
   ]
  },
  {
   "cell_type": "markdown",
   "metadata": {},
   "source": [
    "Las tablas que tenemos son:\r\n",
    "1. Activos: Informacion de cada activo\r\n",
    "2. Historico Adjuntos Activos OT: Match de que activo corresponde a que .txt, e informacion de la orden de trabajo fuera del reporte\r\n",
    "3. Registros ordenes de Trabajo: Informacion de ordenes de trabajo, incluidas los reportes en formato html"
   ]
  },
  {
   "cell_type": "code",
   "execution_count": 1,
   "metadata": {},
   "outputs": [
    {
     "ename": "ModuleNotFoundError",
     "evalue": "No module named 'prettytable'",
     "output_type": "error",
     "traceback": [
      "\u001b[1;31m---------------------------------------------------------------------------\u001b[0m",
      "\u001b[1;31mModuleNotFoundError\u001b[0m                       Traceback (most recent call last)",
      "\u001b[1;32m~\\AppData\\Local\\Temp/ipykernel_8612/4146697944.py\u001b[0m in \u001b[0;36m<module>\u001b[1;34m\u001b[0m\n\u001b[0;32m      1\u001b[0m \u001b[1;32mimport\u001b[0m \u001b[0mnumpy\u001b[0m \u001b[1;32mas\u001b[0m \u001b[0mnp\u001b[0m\u001b[1;33m\u001b[0m\u001b[1;33m\u001b[0m\u001b[0m\n\u001b[0;32m      2\u001b[0m \u001b[1;32mimport\u001b[0m \u001b[0mpandas\u001b[0m \u001b[1;32mas\u001b[0m \u001b[0mpd\u001b[0m\u001b[1;33m\u001b[0m\u001b[1;33m\u001b[0m\u001b[0m\n\u001b[1;32m----> 3\u001b[1;33m \u001b[1;32mimport\u001b[0m \u001b[0mprettytable\u001b[0m \u001b[1;32mas\u001b[0m \u001b[0mpt\u001b[0m\u001b[1;33m\u001b[0m\u001b[1;33m\u001b[0m\u001b[0m\n\u001b[0m",
      "\u001b[1;31mModuleNotFoundError\u001b[0m: No module named 'prettytable'"
     ]
    }
   ],
   "source": [
    "import numpy as np\r\n",
    "import pandas as pd\r\n",
    "import prettytable as pt"
   ]
  },
  {
   "cell_type": "code",
   "execution_count": 2,
   "metadata": {},
   "outputs": [],
   "source": [
    "activos = pd.read_csv('EPM_HISTORICOS_OT_ANDRES_OCAMPO\\Activos.csv', delimiter=';')"
   ]
  },
  {
   "cell_type": "code",
   "execution_count": 3,
   "metadata": {},
   "outputs": [],
   "source": [
    "hist_ots = pd.read_csv('EPM_HISTORICOS_OT_ANDRES_OCAMPO\\Historico Adjuntos Activos OT.csv', delimiter=';')"
   ]
  },
  {
   "cell_type": "code",
   "execution_count": 4,
   "metadata": {},
   "outputs": [],
   "source": [
    "ots = pd.read_excel('EPM_HISTORICOS_OT_ANDRES_OCAMPO\\Registros Ordenes de Trabajo (1).xlsx')"
   ]
  },
  {
   "cell_type": "code",
   "execution_count": 5,
   "metadata": {},
   "outputs": [
    {
     "name": "stdout",
     "output_type": "stream",
     "text": [
      "+---------------+------------------+-------------+\n",
      "|    Activos    |     Hist OTs     |     OTs     |\n",
      "+---------------+------------------+-------------+\n",
      "|    ASSETNUM   |     ASSETNUM     |    WONUM    |\n",
      "|  DESCRIPTION  |   SLXNUMACTEXT   | DESCRIPTION |\n",
      "|    ASSETTAG   |  SLXDESCACTEXT   |   ASSETNUM  |\n",
      "|    LOCATION   |     WORKTYPE     |   WORKTYPE  |\n",
      "| SLXJDETECNICO |    SLXNUMTOT     |  REPORTDATE |\n",
      "|  INSTALLDATE  |    SLXDESCOT     |   ACTSTART  |\n",
      "|     STATUS    | SLXFECCREACIONOT |  ACTFINISH  |\n",
      "|     SITEID    |  SLXFECINICIOOT  |   PROBLEM   |\n",
      "|               |   SLXFECFINOT    |    CAUSE    |\n",
      "|               |     DOCUMENT     |    REMEDY   |\n",
      "|               |                  |   WORKLOG   |\n",
      "+---------------+------------------+-------------+\n"
     ]
    }
   ],
   "source": [
    "cols = pt.PrettyTable()\r\n",
    "cols.add_column('Activos', activos.columns.tolist() + ['', '', ''])\r\n",
    "cols.add_column('Hist OTs', hist_ots.columns.tolist()+ [''])\r\n",
    "cols.add_column('OTs', ots.columns.tolist())\r\n",
    "print(cols)"
   ]
  },
  {
   "cell_type": "markdown",
   "metadata": {},
   "source": [
    "# Agregamos a la tabla de Historico de ordenes de trabajo el Reporte en texto libre correspondiente"
   ]
  },
  {
   "cell_type": "code",
   "execution_count": 6,
   "metadata": {},
   "outputs": [],
   "source": [
    "# Modificaciones al nombre de archivo para asegurar que sea como el del txt\r\n",
    "hist_ots['DOCUMENT'] = hist_ots['DOCUMENT'].replace('ISTORIA', 'istoria', regex = True)\r\n",
    "hist_ots['DOCUMENT'] = hist_ots['DOCUMENT'].apply(str.strip)"
   ]
  },
  {
   "cell_type": "code",
   "execution_count": 7,
   "metadata": {},
   "outputs": [
    {
     "name": "stderr",
     "output_type": "stream",
     "text": [
      "<ipython-input-7-e20a81f7d96f>:15: SettingWithCopyWarning: \n",
      "A value is trying to be set on a copy of a slice from a DataFrame\n",
      "\n",
      "See the caveats in the documentation: https://pandas.pydata.org/pandas-docs/stable/user_guide/indexing.html#returning-a-view-versus-a-copy\n",
      "  hist_ots.WORKLOG[i] = worklog           # Asignamos el worklog a la entrada correspondiente\n"
     ]
    }
   ],
   "source": [
    "#Creamos una columna vacia por ahora\r\n",
    "hist_ots['WORKLOG'] = ''\r\n",
    "\r\n",
    "for i in range(len(hist_ots.DOCUMENT)):\r\n",
    "    filename = hist_ots.DOCUMENT[i]         # Leemos el nombre de archivo para cada una\r\n",
    "    \r\n",
    "    try:\r\n",
    "        lineas = []                             # Lista vacía para guardar el contenido\r\n",
    "        with open (f'EPM_HISTORICOS_OT_ANDRES_OCAMPO\\HISTORICOS_OT\\{filename}.txt', 'rt') as worklog:  # Abre el .txt\r\n",
    "            for linea in worklog:               # Lee linea por linea\r\n",
    "                lineas.append(linea)            # Guarda la linea como elemento de la lista\r\n",
    "        \r\n",
    "        worklog = ''.join(lineas)               # Juntamos en un string\r\n",
    "\r\n",
    "        hist_ots.WORKLOG[i] = worklog           # Asignamos el worklog a la entrada correspondiente\r\n",
    "\r\n",
    "    except:\r\n",
    "        i =+ 1 \r\n"
   ]
  },
  {
   "cell_type": "code",
   "execution_count": 9,
   "metadata": {},
   "outputs": [],
   "source": [
    "# Reemplazamos los caracteres \\n (new line) con espacios\r\n",
    "hist_ots['WORKLOG'] = hist_ots['WORKLOG'].replace('\\n', ' ', regex = True)"
   ]
  },
  {
   "cell_type": "code",
   "execution_count": 10,
   "metadata": {},
   "outputs": [],
   "source": [
    "# Volvemos NA lo que quedo vacío\r\n",
    "vacio_a_na = {'': np.nan}\r\n",
    "hist_ots['WORKLOG'] = hist_ots['WORKLOG'].replace(vacio_a_na)"
   ]
  },
  {
   "cell_type": "code",
   "execution_count": 11,
   "metadata": {},
   "outputs": [
    {
     "data": {
      "text/plain": [
       "9908"
      ]
     },
     "execution_count": 11,
     "metadata": {},
     "output_type": "execute_result"
    }
   ],
   "source": [
    "# Miramos la cantidad de vacios\r\n",
    "hist_ots.WORKLOG.isna().sum()"
   ]
  },
  {
   "cell_type": "code",
   "execution_count": 12,
   "metadata": {},
   "outputs": [],
   "source": [
    "# Comparamos con los vacios del repositorio, con una muestra random de la mitad:\r\n",
    "vacios = ['HistoriaJDE_OT_3815495.txt',\r\n",
    "          'HistoriaJDE_OT_3816996.txt',\r\n",
    "          'HistoriaJDE_OT_3818147.txt',\r\n",
    "          'HistoriaJDE_OT_3818153.txt',\r\n",
    "          'HistoriaJDE_OT_3821964.txt',\r\n",
    "          'HistoriaJDE_OT_3824321.txt',\r\n",
    "          'HistoriaJDE_OT_3824493.txt',\r\n",
    "          'HistoriaJDE_OT_3825889.txt',\r\n",
    "          'HistoriaJDE_OT_3826393.txt',\r\n",
    "          'HistoriaJDE_OT_3829275.txt',\r\n",
    "          'HistoriaJDE_OT_3832219.txt',\r\n",
    "          'HistoriaJDE_OT_3834917.txt']"
   ]
  },
  {
   "cell_type": "code",
   "execution_count": 13,
   "metadata": {},
   "outputs": [
    {
     "data": {
      "text/html": [
       "<div>\n",
       "<style scoped>\n",
       "    .dataframe tbody tr th:only-of-type {\n",
       "        vertical-align: middle;\n",
       "    }\n",
       "\n",
       "    .dataframe tbody tr th {\n",
       "        vertical-align: top;\n",
       "    }\n",
       "\n",
       "    .dataframe thead th {\n",
       "        text-align: right;\n",
       "    }\n",
       "</style>\n",
       "<table border=\"1\" class=\"dataframe\">\n",
       "  <thead>\n",
       "    <tr style=\"text-align: right;\">\n",
       "      <th></th>\n",
       "      <th>ASSETNUM</th>\n",
       "      <th>SLXNUMACTEXT</th>\n",
       "      <th>SLXDESCACTEXT</th>\n",
       "      <th>WORKTYPE</th>\n",
       "      <th>SLXNUMTOT</th>\n",
       "      <th>SLXDESCOT</th>\n",
       "      <th>SLXFECCREACIONOT</th>\n",
       "      <th>SLXFECINICIOOT</th>\n",
       "      <th>SLXFECFINOT</th>\n",
       "      <th>DOCUMENT</th>\n",
       "      <th>WORKLOG</th>\n",
       "    </tr>\n",
       "  </thead>\n",
       "  <tbody>\n",
       "  </tbody>\n",
       "</table>\n",
       "</div>"
      ],
      "text/plain": [
       "Empty DataFrame\n",
       "Columns: [ASSETNUM, SLXNUMACTEXT, SLXDESCACTEXT, WORKTYPE, SLXNUMTOT, SLXDESCOT, SLXFECCREACIONOT, SLXFECINICIOOT, SLXFECFINOT, DOCUMENT, WORKLOG]\n",
       "Index: []"
      ]
     },
     "execution_count": 13,
     "metadata": {},
     "output_type": "execute_result"
    }
   ],
   "source": [
    "hist_ots.loc[hist_ots.DOCUMENT.isin(vacios)]"
   ]
  },
  {
   "cell_type": "markdown",
   "metadata": {},
   "source": [
    "Segun el repositorio, hay 1301 vacios, que parece que no estaban en la tabla. Y parece que hay 9908 en la tabla que no coinciden con ningun .txt. \r\n",
    "\r\n",
    "(Total de archivos .txt - vacios) = (Total del filas del data frame - NaN en la columna de worklog)?"
   ]
  },
  {
   "cell_type": "code",
   "execution_count": 14,
   "metadata": {},
   "outputs": [
    {
     "data": {
      "text/plain": [
       "False"
      ]
     },
     "execution_count": 14,
     "metadata": {},
     "output_type": "execute_result"
    }
   ],
   "source": [
    "import os\r\n",
    "import glob\r\n",
    "\r\n",
    "#Obtenemos el total de los archivos\r\n",
    "files = os.listdir('EPM_HISTORICOS_OT_ANDRES_OCAMPO\\HISTORICOS_OT')\r\n",
    "\r\n",
    "(len(files) - 1301) == (len(hist_ots.DOCUMENT) - 9908)"
   ]
  },
  {
   "cell_type": "code",
   "execution_count": 15,
   "metadata": {},
   "outputs": [
    {
     "data": {
      "text/plain": [
       "53063"
      ]
     },
     "execution_count": 15,
     "metadata": {},
     "output_type": "execute_result"
    }
   ],
   "source": [
    "# Archivos con info en la carpeta\r\n",
    "len(files) - 1301"
   ]
  },
  {
   "cell_type": "code",
   "execution_count": 16,
   "metadata": {},
   "outputs": [
    {
     "data": {
      "text/plain": [
       "48483"
      ]
     },
     "execution_count": 16,
     "metadata": {},
     "output_type": "execute_result"
    }
   ],
   "source": [
    "# Archivos con info en la tabla modificada\r\n",
    "len(hist_ots.DOCUMENT) - 9908"
   ]
  },
  {
   "cell_type": "markdown",
   "metadata": {},
   "source": [
    "Segun esto hay unos 5k .txt que no estan en la tabla? "
   ]
  },
  {
   "cell_type": "code",
   "execution_count": 17,
   "metadata": {},
   "outputs": [
    {
     "data": {
      "text/plain": [
       "0        HistoriaJDE_01312033_OT_1000740\n",
       "1        HistoriaJDE_01312033_OT_1001233\n",
       "2        HistoriaJDE_01312033_OT_1001382\n",
       "3        HistoriaJDE_01312033_OT_1001383\n",
       "4        HistoriaJDE_01312033_OT_1001386\n",
       "                      ...               \n",
       "9903      HistoriaJDE_01312033_OT_999471\n",
       "9904      HistoriaJDE_01312033_OT_999472\n",
       "9905      HistoriaJDE_01312033_OT_999570\n",
       "9906       HistoriaJDE_01312033_OT_99991\n",
       "46883             HistoriaJDE_OT_3641553\n",
       "Name: DOCUMENT, Length: 9908, dtype: object"
      ]
     },
     "execution_count": 17,
     "metadata": {},
     "output_type": "execute_result"
    }
   ],
   "source": [
    "#miramos los 9k que si estan pero no tienen .txt\r\n",
    "hist_ots.DOCUMENT.loc[hist_ots.WORKLOG.isna()]"
   ]
  },
  {
   "cell_type": "code",
   "execution_count": 19,
   "metadata": {},
   "outputs": [],
   "source": [
    "faltantes = hist_ots.DOCUMENT.loc[hist_ots.WORKLOG.isna()]\r\n",
    "\r\n",
    "good_docs = []\r\n",
    "for doc in faltantes:\r\n",
    "    if len(doc) < 27: good_docs.append(doc)"
   ]
  },
  {
   "cell_type": "code",
   "execution_count": 20,
   "metadata": {},
   "outputs": [
    {
     "data": {
      "text/plain": [
       "['HistoriaJDE_OT_3641553']"
      ]
     },
     "execution_count": 20,
     "metadata": {},
     "output_type": "execute_result"
    }
   ],
   "source": [
    "good_docs"
   ]
  },
  {
   "cell_type": "code",
   "execution_count": 21,
   "metadata": {},
   "outputs": [
    {
     "name": "stderr",
     "output_type": "stream",
     "text": [
      "C:\\Users\\USER\\anaconda3\\envs\\DS4A\\lib\\site-packages\\pandas\\core\\indexing.py:1637: SettingWithCopyWarning: \n",
      "A value is trying to be set on a copy of a slice from a DataFrame\n",
      "\n",
      "See the caveats in the documentation: https://pandas.pydata.org/pandas-docs/stable/user_guide/indexing.html#returning-a-view-versus-a-copy\n",
      "  self._setitem_single_block(indexer, value, name)\n"
     ]
    }
   ],
   "source": [
    "# Parece que solo se está saltando ese por x o y motivo, lo agregamos y ya\r\n",
    "hist_ots.WORKLOG.loc[hist_ots.DOCUMENT == 'HistoriaJDE_OT_3641553'] = 'Fecha: Noviembre 15/2017 Programo: Daniel Palacios O.Ejecuto: Jairo Torres y Frank Córdoba. Se realiza inspección y limpieza al barraje de salida, se realiza inspección y mantenimiento a mallas separadoras del barraje, baquelitas separadoras de barras, conexiones entre barras y estado del aislamiento, también se revisan el estado de los CTLs, de sus conexiones eléctricas en el tablero +CCCTS. Trabajo ejecutado por: Jairo Torres y Frank Córdoba. XE: LIMPIAR E INSPECCIONAR BARRAJE ESTATOR GENERADOR UNIDAD'\r\n"
   ]
  },
  {
   "cell_type": "code",
   "execution_count": 22,
   "metadata": {},
   "outputs": [
    {
     "data": {
      "text/plain": [
       "9907"
      ]
     },
     "execution_count": 22,
     "metadata": {},
     "output_type": "execute_result"
    }
   ],
   "source": [
    "hist_ots.WORKLOG.isna().sum()"
   ]
  },
  {
   "cell_type": "code",
   "execution_count": 23,
   "metadata": {},
   "outputs": [
    {
     "data": {
      "text/plain": [
       "{29, 30, 31}"
      ]
     },
     "execution_count": 23,
     "metadata": {},
     "output_type": "execute_result"
    }
   ],
   "source": [
    "# Todos los nombres de nuestros .txt son de 26 caracteres, miramos que no haya quedado ninguno de esos sin worklog en la tabla\r\n",
    "set(hist_ots.DOCUMENT.loc[hist_ots.WORKLOG.isna()].apply(len))"
   ]
  },
  {
   "cell_type": "code",
   "execution_count": 64,
   "metadata": {},
   "outputs": [],
   "source": [
    "# ahora si, guardo el csv\r\n",
    "hist_ots.to_csv('historico_OTs_texto_libre.csv')\r\n"
   ]
  },
  {
   "cell_type": "markdown",
   "metadata": {},
   "source": [
    "# Quitamos las tag html de la tabla de Historico reciente de OTs"
   ]
  },
  {
   "cell_type": "code",
   "execution_count": 24,
   "metadata": {},
   "outputs": [],
   "source": [
    "import html2text"
   ]
  },
  {
   "cell_type": "code",
   "execution_count": 25,
   "metadata": {},
   "outputs": [],
   "source": [
    "ots['WORKLOG'] = ots['WORKLOG'].apply(html2text.html2text)"
   ]
  },
  {
   "cell_type": "code",
   "execution_count": 26,
   "metadata": {},
   "outputs": [],
   "source": [
    "# Reemplazamos los caracteres \\n (new line) con espacios\r\n",
    "ots['WORKLOG'] = ots['WORKLOG'].replace('\\n', ' ', regex = True)"
   ]
  },
  {
   "cell_type": "code",
   "execution_count": 27,
   "metadata": {},
   "outputs": [
    {
     "data": {
      "text/html": [
       "<div>\n",
       "<style scoped>\n",
       "    .dataframe tbody tr th:only-of-type {\n",
       "        vertical-align: middle;\n",
       "    }\n",
       "\n",
       "    .dataframe tbody tr th {\n",
       "        vertical-align: top;\n",
       "    }\n",
       "\n",
       "    .dataframe thead th {\n",
       "        text-align: right;\n",
       "    }\n",
       "</style>\n",
       "<table border=\"1\" class=\"dataframe\">\n",
       "  <thead>\n",
       "    <tr style=\"text-align: right;\">\n",
       "      <th></th>\n",
       "      <th>WONUM</th>\n",
       "      <th>DESCRIPTION</th>\n",
       "      <th>ASSETNUM</th>\n",
       "      <th>WORKTYPE</th>\n",
       "      <th>REPORTDATE</th>\n",
       "      <th>ACTSTART</th>\n",
       "      <th>ACTFINISH</th>\n",
       "      <th>PROBLEM</th>\n",
       "      <th>CAUSE</th>\n",
       "      <th>REMEDY</th>\n",
       "      <th>WORKLOG</th>\n",
       "    </tr>\n",
       "  </thead>\n",
       "  <tbody>\n",
       "    <tr>\n",
       "      <th>0</th>\n",
       "      <td>81187</td>\n",
       "      <td>R/V SOFTWARE SCADA LA TASAJERA</td>\n",
       "      <td>2977213</td>\n",
       "      <td>CPROG</td>\n",
       "      <td>2018-07-17 09:13:14.999</td>\n",
       "      <td>2018-08-01 10:58:12.000</td>\n",
       "      <td>2018-12-20 08:25:17.999</td>\n",
       "      <td>CONTROL DEFICIENTE</td>\n",
       "      <td>CABLE DE PUESTA A TIERRA SUELTO</td>\n",
       "      <td>CONECTAR</td>\n",
       "      <td>AJUSTE DE LA HORA EN SCADA.  Lo primero que se...</td>\n",
       "    </tr>\n",
       "    <tr>\n",
       "      <th>1</th>\n",
       "      <td>81011</td>\n",
       "      <td>LAVAR JUEGO DE PLACAS</td>\n",
       "      <td>2976926</td>\n",
       "      <td>CPROG</td>\n",
       "      <td>2018-07-17 07:35:10.999</td>\n",
       "      <td>2018-07-16 06:59:59.999</td>\n",
       "      <td>2018-07-17 10:20:17.999</td>\n",
       "      <td>OBSTRUCCION</td>\n",
       "      <td>ELEMENTOS EXTRANOS O CONTAMINANTES EN EL FLUIDO</td>\n",
       "      <td>LIMPIAR</td>\n",
       "      <td>**  JUL 16/2018 OT: 81011 PROGRAMO: WPARRAR EJ...</td>\n",
       "    </tr>\n",
       "    <tr>\n",
       "      <th>2</th>\n",
       "      <td>82516</td>\n",
       "      <td>R/P REPARAR VALVULA MANUAL DEL BY-PASS</td>\n",
       "      <td>2976936</td>\n",
       "      <td>CINME</td>\n",
       "      <td>2018-07-18 15:06:53.999</td>\n",
       "      <td>2018-11-26 06:59:59.999</td>\n",
       "      <td>2018-11-26 12:59:59.999</td>\n",
       "      <td>RETORNO NO ACCIONADO</td>\n",
       "      <td>FUGA</td>\n",
       "      <td>REPARAR</td>\n",
       "      <td>SOLICITANTE:  REPARAR LA VALVULA MANUAL DE GUA...</td>\n",
       "    </tr>\n",
       "    <tr>\n",
       "      <th>3</th>\n",
       "      <td>82567</td>\n",
       "      <td>REPARAR AGUJAS DE REPUESTO</td>\n",
       "      <td>2976937</td>\n",
       "      <td>CINME</td>\n",
       "      <td>2018-07-18 15:50:47.999</td>\n",
       "      <td>2018-07-18 15:50:47.999</td>\n",
       "      <td>2020-12-04 10:44:12.000</td>\n",
       "      <td>DANO EN RECUBRIMIENTO, ABOLLADURA, DEFORMACION</td>\n",
       "      <td>DESPLAZAMIENTO DEL TERRENO, DESLIZAMIENTO, ERO...</td>\n",
       "      <td>REPARAR</td>\n",
       "      <td>**JUL 18/2018 OT: 82567 PROGRAMO: WPARRAR EJEC...</td>\n",
       "    </tr>\n",
       "    <tr>\n",
       "      <th>4</th>\n",
       "      <td>83539</td>\n",
       "      <td>CORREGIR FUGA DE ACEITE CGI - U1</td>\n",
       "      <td>2976933</td>\n",
       "      <td>CINME</td>\n",
       "      <td>2018-07-19 14:43:19.999</td>\n",
       "      <td>2018-07-19 14:43:21.000</td>\n",
       "      <td>2018-08-08 10:42:17.000</td>\n",
       "      <td>FUGA</td>\n",
       "      <td>FALLA EN ACCESORIO (VALVULA, SELLO, EMPAQUE, B...</td>\n",
       "      <td>CAMBIAR</td>\n",
       "      <td>SOLICITANTE:  CORREGIR FUGA DE ACEITE EN EL CO...</td>\n",
       "    </tr>\n",
       "  </tbody>\n",
       "</table>\n",
       "</div>"
      ],
      "text/plain": [
       "   WONUM                             DESCRIPTION  ASSETNUM WORKTYPE  \\\n",
       "0  81187          R/V SOFTWARE SCADA LA TASAJERA   2977213    CPROG   \n",
       "1  81011                   LAVAR JUEGO DE PLACAS   2976926    CPROG   \n",
       "2  82516  R/P REPARAR VALVULA MANUAL DEL BY-PASS   2976936    CINME   \n",
       "3  82567              REPARAR AGUJAS DE REPUESTO   2976937    CINME   \n",
       "4  83539        CORREGIR FUGA DE ACEITE CGI - U1   2976933    CINME   \n",
       "\n",
       "               REPORTDATE                ACTSTART               ACTFINISH  \\\n",
       "0 2018-07-17 09:13:14.999 2018-08-01 10:58:12.000 2018-12-20 08:25:17.999   \n",
       "1 2018-07-17 07:35:10.999 2018-07-16 06:59:59.999 2018-07-17 10:20:17.999   \n",
       "2 2018-07-18 15:06:53.999 2018-11-26 06:59:59.999 2018-11-26 12:59:59.999   \n",
       "3 2018-07-18 15:50:47.999 2018-07-18 15:50:47.999 2020-12-04 10:44:12.000   \n",
       "4 2018-07-19 14:43:19.999 2018-07-19 14:43:21.000 2018-08-08 10:42:17.000   \n",
       "\n",
       "                                          PROBLEM  \\\n",
       "0                              CONTROL DEFICIENTE   \n",
       "1                                     OBSTRUCCION   \n",
       "2                            RETORNO NO ACCIONADO   \n",
       "3  DANO EN RECUBRIMIENTO, ABOLLADURA, DEFORMACION   \n",
       "4                                            FUGA   \n",
       "\n",
       "                                               CAUSE    REMEDY  \\\n",
       "0                    CABLE DE PUESTA A TIERRA SUELTO  CONECTAR   \n",
       "1    ELEMENTOS EXTRANOS O CONTAMINANTES EN EL FLUIDO   LIMPIAR   \n",
       "2                                               FUGA   REPARAR   \n",
       "3  DESPLAZAMIENTO DEL TERRENO, DESLIZAMIENTO, ERO...   REPARAR   \n",
       "4  FALLA EN ACCESORIO (VALVULA, SELLO, EMPAQUE, B...   CAMBIAR   \n",
       "\n",
       "                                             WORKLOG  \n",
       "0  AJUSTE DE LA HORA EN SCADA.  Lo primero que se...  \n",
       "1  **  JUL 16/2018 OT: 81011 PROGRAMO: WPARRAR EJ...  \n",
       "2  SOLICITANTE:  REPARAR LA VALVULA MANUAL DE GUA...  \n",
       "3  **JUL 18/2018 OT: 82567 PROGRAMO: WPARRAR EJEC...  \n",
       "4  SOLICITANTE:  CORREGIR FUGA DE ACEITE EN EL CO...  "
      ]
     },
     "execution_count": 27,
     "metadata": {},
     "output_type": "execute_result"
    }
   ],
   "source": [
    "ots.head()"
   ]
  },
  {
   "cell_type": "code",
   "execution_count": 71,
   "metadata": {},
   "outputs": [],
   "source": [
    "# Guardo el csv\r\n",
    "ots.to_csv('historico_OTs_recientes.csv')"
   ]
  },
  {
   "cell_type": "markdown",
   "metadata": {},
   "source": [
    "# Tabla que relacione activo, fecha y reporte"
   ]
  },
  {
   "cell_type": "code",
   "execution_count": 50,
   "metadata": {},
   "outputs": [],
   "source": [
    "viejos = hist_ots[['ASSETNUM','SLXNUMTOT','SLXFECINICIOOT','SLXFECFINOT','WORKLOG']]\r\n",
    "nuevos = ots[['ASSETNUM','WONUM','ACTSTART','ACTFINISH','WORKLOG']]"
   ]
  },
  {
   "cell_type": "code",
   "execution_count": 51,
   "metadata": {},
   "outputs": [
    {
     "name": "stderr",
     "output_type": "stream",
     "text": [
      "<ipython-input-51-4f60f7d8b802>:1: SettingWithCopyWarning: \n",
      "A value is trying to be set on a copy of a slice from a DataFrame.\n",
      "Try using .loc[row_indexer,col_indexer] = value instead\n",
      "\n",
      "See the caveats in the documentation: https://pandas.pydata.org/pandas-docs/stable/user_guide/indexing.html#returning-a-view-versus-a-copy\n",
      "  viejos['ANTIGUEDAD'] = 'Antiguo'\n",
      "<ipython-input-51-4f60f7d8b802>:2: SettingWithCopyWarning: \n",
      "A value is trying to be set on a copy of a slice from a DataFrame.\n",
      "Try using .loc[row_indexer,col_indexer] = value instead\n",
      "\n",
      "See the caveats in the documentation: https://pandas.pydata.org/pandas-docs/stable/user_guide/indexing.html#returning-a-view-versus-a-copy\n",
      "  nuevos['ANTIGUEDAD'] = 'Reciente'\n"
     ]
    }
   ],
   "source": [
    "viejos['ANTIGUEDAD'] = 'Antiguo'\r\n",
    "nuevos['ANTIGUEDAD'] = 'Reciente'"
   ]
  },
  {
   "cell_type": "code",
   "execution_count": 52,
   "metadata": {},
   "outputs": [],
   "source": [
    "viejos = viejos.rename(columns={'SLXNUMTOT': 'WONUM','SLXFECINICIOOT': 'ACTSTART','SLXFECFINOT':'ACTFINISH'})"
   ]
  },
  {
   "cell_type": "code",
   "execution_count": 53,
   "metadata": {},
   "outputs": [
    {
     "name": "stderr",
     "output_type": "stream",
     "text": [
      "<ipython-input-53-5446672fd909>:5: SettingWithCopyWarning: \n",
      "A value is trying to be set on a copy of a slice from a DataFrame.\n",
      "Try using .loc[row_indexer,col_indexer] = value instead\n",
      "\n",
      "See the caveats in the documentation: https://pandas.pydata.org/pandas-docs/stable/user_guide/indexing.html#returning-a-view-versus-a-copy\n",
      "  nuevos['ACTSTART'] = pd.to_datetime(nuevos['ACTSTART'])\n",
      "<ipython-input-53-5446672fd909>:6: SettingWithCopyWarning: \n",
      "A value is trying to be set on a copy of a slice from a DataFrame.\n",
      "Try using .loc[row_indexer,col_indexer] = value instead\n",
      "\n",
      "See the caveats in the documentation: https://pandas.pydata.org/pandas-docs/stable/user_guide/indexing.html#returning-a-view-versus-a-copy\n",
      "  nuevos['ACTFINISH'] = pd.to_datetime(nuevos['ACTFINISH'])\n",
      "<ipython-input-53-5446672fd909>:7: SettingWithCopyWarning: \n",
      "A value is trying to be set on a copy of a slice from a DataFrame.\n",
      "Try using .loc[row_indexer,col_indexer] = value instead\n",
      "\n",
      "See the caveats in the documentation: https://pandas.pydata.org/pandas-docs/stable/user_guide/indexing.html#returning-a-view-versus-a-copy\n",
      "  nuevos['ASSETNUM'] = nuevos['ASSETNUM'].astype('object')\n"
     ]
    }
   ],
   "source": [
    "viejos['ACTSTART'] = pd.to_datetime(viejos['ACTSTART'])\r\n",
    "viejos['ACTFINISH'] = pd.to_datetime(viejos['ACTFINISH'])\r\n",
    "viejos['ASSETNUM'] = viejos['ASSETNUM'].astype('object')\r\n",
    "\r\n",
    "nuevos['ACTSTART'] = pd.to_datetime(nuevos['ACTSTART'])\r\n",
    "nuevos['ACTFINISH'] = pd.to_datetime(nuevos['ACTFINISH'])\r\n",
    "nuevos['ASSETNUM'] = nuevos['ASSETNUM'].astype('object')"
   ]
  },
  {
   "cell_type": "code",
   "execution_count": 54,
   "metadata": {},
   "outputs": [],
   "source": [
    "todos = viejos.append(nuevos)\r\n",
    "todos = todos.sort_values(by = ['ASSETNUM', 'ACTSTART'])"
   ]
  },
  {
   "cell_type": "code",
   "execution_count": 55,
   "metadata": {},
   "outputs": [
    {
     "data": {
      "text/html": [
       "<div>\n",
       "<style scoped>\n",
       "    .dataframe tbody tr th:only-of-type {\n",
       "        vertical-align: middle;\n",
       "    }\n",
       "\n",
       "    .dataframe tbody tr th {\n",
       "        vertical-align: top;\n",
       "    }\n",
       "\n",
       "    .dataframe thead th {\n",
       "        text-align: right;\n",
       "    }\n",
       "</style>\n",
       "<table border=\"1\" class=\"dataframe\">\n",
       "  <thead>\n",
       "    <tr style=\"text-align: right;\">\n",
       "      <th></th>\n",
       "      <th>ASSETNUM</th>\n",
       "      <th>WONUM</th>\n",
       "      <th>ACTSTART</th>\n",
       "      <th>ACTFINISH</th>\n",
       "      <th>WORKLOG</th>\n",
       "      <th>ANTIGUEDAD</th>\n",
       "    </tr>\n",
       "  </thead>\n",
       "  <tbody>\n",
       "    <tr>\n",
       "      <th>9612</th>\n",
       "      <td>2976773.0</td>\n",
       "      <td>93702</td>\n",
       "      <td>2001-03-23 00:00:00.000</td>\n",
       "      <td>2001-03-23 00:00:00</td>\n",
       "      <td>NaN</td>\n",
       "      <td>Antiguo</td>\n",
       "    </tr>\n",
       "    <tr>\n",
       "      <th>2982</th>\n",
       "      <td>2976773.0</td>\n",
       "      <td>2192875</td>\n",
       "      <td>2012-11-16 00:00:00.000</td>\n",
       "      <td>2012-11-16 00:00:00</td>\n",
       "      <td>NaN</td>\n",
       "      <td>Antiguo</td>\n",
       "    </tr>\n",
       "    <tr>\n",
       "      <th>1053</th>\n",
       "      <td>2976774.0</td>\n",
       "      <td>1361312</td>\n",
       "      <td>2009-02-27 00:00:00.000</td>\n",
       "      <td>2009-02-27 00:00:00</td>\n",
       "      <td>NaN</td>\n",
       "      <td>Antiguo</td>\n",
       "    </tr>\n",
       "    <tr>\n",
       "      <th>8676</th>\n",
       "      <td>2976775</td>\n",
       "      <td>1739249</td>\n",
       "      <td>2020-03-10 16:08:49.999</td>\n",
       "      <td>2020-06-01 11:29:24</td>\n",
       "      <td>10/03/2020  Se verifica el funcionamiento del ...</td>\n",
       "      <td>Reciente</td>\n",
       "    </tr>\n",
       "    <tr>\n",
       "      <th>10687</th>\n",
       "      <td>2976775</td>\n",
       "      <td>1739249</td>\n",
       "      <td>2020-03-10 16:08:49.999</td>\n",
       "      <td>2020-06-01 11:29:24</td>\n",
       "      <td>REVISAR ARCHIVO ADJUNTO.</td>\n",
       "      <td>Reciente</td>\n",
       "    </tr>\n",
       "  </tbody>\n",
       "</table>\n",
       "</div>"
      ],
      "text/plain": [
       "        ASSETNUM    WONUM                ACTSTART           ACTFINISH  \\\n",
       "9612   2976773.0    93702 2001-03-23 00:00:00.000 2001-03-23 00:00:00   \n",
       "2982   2976773.0  2192875 2012-11-16 00:00:00.000 2012-11-16 00:00:00   \n",
       "1053   2976774.0  1361312 2009-02-27 00:00:00.000 2009-02-27 00:00:00   \n",
       "8676     2976775  1739249 2020-03-10 16:08:49.999 2020-06-01 11:29:24   \n",
       "10687    2976775  1739249 2020-03-10 16:08:49.999 2020-06-01 11:29:24   \n",
       "\n",
       "                                                 WORKLOG ANTIGUEDAD  \n",
       "9612                                                 NaN    Antiguo  \n",
       "2982                                                 NaN    Antiguo  \n",
       "1053                                                 NaN    Antiguo  \n",
       "8676   10/03/2020  Se verifica el funcionamiento del ...   Reciente  \n",
       "10687                         REVISAR ARCHIVO ADJUNTO.     Reciente  "
      ]
     },
     "execution_count": 55,
     "metadata": {},
     "output_type": "execute_result"
    }
   ],
   "source": [
    "todos.head()"
   ]
  },
  {
   "cell_type": "code",
   "execution_count": 49,
   "metadata": {},
   "outputs": [],
   "source": [
    "todos.to_csv('relacion_ots_activo.csv')"
   ]
  },
  {
   "cell_type": "code",
   "execution_count": null,
   "metadata": {},
   "outputs": [],
   "source": []
  }
 ],
 "metadata": {
  "interpreter": {
   "hash": "e55832998f3a8a26e2992baea321569607972aaacc4daf2de44a7713ecd8a64f"
  },
  "kernelspec": {
   "display_name": "Python 3 (ipykernel)",
   "language": "python",
   "name": "python3"
  },
  "language_info": {
   "codemirror_mode": {
    "name": "ipython",
    "version": 3
   },
   "file_extension": ".py",
   "mimetype": "text/x-python",
   "name": "python",
   "nbconvert_exporter": "python",
   "pygments_lexer": "ipython3",
   "version": "3.8.8"
  }
 },
 "nbformat": 4,
 "nbformat_minor": 4
}
